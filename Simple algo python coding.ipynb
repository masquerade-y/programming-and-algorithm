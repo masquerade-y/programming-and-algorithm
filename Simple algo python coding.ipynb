{
 "cells": [
  {
   "cell_type": "code",
   "execution_count": 1,
   "id": "2d2e9c5d",
   "metadata": {},
   "outputs": [],
   "source": [
    "import pandas as pd\n",
    "import numpy as np"
   ]
  },
  {
   "cell_type": "markdown",
   "id": "a37e1aeb",
   "metadata": {},
   "source": [
    "## String"
   ]
  },
  {
   "cell_type": "markdown",
   "id": "b5ec0b66",
   "metadata": {},
   "source": [
    "### Reverse Integer"
   ]
  },
  {
   "cell_type": "code",
   "execution_count": 29,
   "id": "b1723fd8",
   "metadata": {},
   "outputs": [],
   "source": [
    "# Given an integer, return the integer with reversed digits.\n",
    "# Note: The integer could be either positive or negative.\n",
    "\n",
    "\n",
    "def solution(x):\n",
    "    # convert to string\n",
    "    x_str = str(x)\n",
    "    \n",
    "    # negative integer case\n",
    "    if x_str[0] == '-':\n",
    "        return -int(x_str[:0:-1])  # [:0:-1] reverse but exclude the first character\n",
    "    # positive integer\n",
    "    else:\n",
    "        return int(x_str[::-1])\n"
   ]
  },
  {
   "cell_type": "code",
   "execution_count": 30,
   "id": "c7007593",
   "metadata": {},
   "outputs": [
    {
     "name": "stdout",
     "output_type": "stream",
     "text": [
      "543\n"
     ]
    }
   ],
   "source": [
    "print(solution(345))"
   ]
  },
  {
   "cell_type": "code",
   "execution_count": 31,
   "id": "e9cbab06",
   "metadata": {},
   "outputs": [
    {
     "name": "stdout",
     "output_type": "stream",
     "text": [
      "-132\n"
     ]
    }
   ],
   "source": [
    "print(solution(-231))"
   ]
  },
  {
   "cell_type": "markdown",
   "id": "a59dafd8",
   "metadata": {},
   "source": [
    "### Average Words Length"
   ]
  },
  {
   "cell_type": "code",
   "execution_count": 44,
   "id": "027e5163",
   "metadata": {},
   "outputs": [],
   "source": [
    "# For a given sentence, return the average word length. \n",
    "# Note: Remember to remove punctuation first.\n",
    "\n",
    "sentence1 = \"Hi all, my name is Tom...I am originally from Australia.\"\n",
    "sentence2 = \"I need to work very hard to learn more about algorithms in Python!\"\n",
    "\n",
    "def solution(sentence):\n",
    "    \n",
    "    # remove punctuation\n",
    "    for p in \",.!?':;\":\n",
    "        sentence = sentence.replace(p, \"\")\n",
    "        \n",
    "    # parse word\n",
    "    words = sentence.split()\n",
    "    \n",
    "    return round(sum([len(word) for word in words])/len(words), 2)\n",
    "\n"
   ]
  },
  {
   "cell_type": "code",
   "execution_count": 45,
   "id": "710539ea",
   "metadata": {},
   "outputs": [
    {
     "name": "stdout",
     "output_type": "stream",
     "text": [
      "4.2\n"
     ]
    }
   ],
   "source": [
    "print(solution(sentence1))"
   ]
  },
  {
   "cell_type": "code",
   "execution_count": 46,
   "id": "2e793543",
   "metadata": {},
   "outputs": [
    {
     "name": "stdout",
     "output_type": "stream",
     "text": [
      "4.08\n"
     ]
    }
   ],
   "source": [
    "print(solution(sentence2))"
   ]
  },
  {
   "cell_type": "markdown",
   "id": "84dab4fe",
   "metadata": {},
   "source": [
    "### Add strings"
   ]
  },
  {
   "cell_type": "code",
   "execution_count": 82,
   "id": "a6dffec2",
   "metadata": {},
   "outputs": [],
   "source": [
    "# Given two non-negative integers num1 and num2 represented as string, return the sum of num1 and num2.\n",
    "# You must not use any built-in BigInteger library or convert the inputs to integer directly.\n",
    "\n",
    "#Notes:\n",
    "#Both num1 and num2 contains only digits 0-9.\n",
    "#Both num1 and num2 does not contain any leading zero.\n",
    "\n",
    "num1 = '364'\n",
    "num2 = '1836'"
   ]
  },
  {
   "cell_type": "code",
   "execution_count": 83,
   "id": "9f5b737e",
   "metadata": {},
   "outputs": [],
   "source": [
    "# use eval() method to dynamically evaluate string-based inputs \n",
    "def solution(num1, num2):\n",
    "    return str(eval(num1) + eval(num2))"
   ]
  },
  {
   "cell_type": "code",
   "execution_count": 84,
   "id": "f698f426",
   "metadata": {},
   "outputs": [
    {
     "name": "stdout",
     "output_type": "stream",
     "text": [
      "2200\n"
     ]
    }
   ],
   "source": [
    "print(solution(num1, num2))"
   ]
  },
  {
   "cell_type": "markdown",
   "id": "50eece41",
   "metadata": {},
   "source": [
    "**Understanding Python’s eval()**\n",
    "\n",
    "You can use the built-in Python eval() to dynamically evaluate expressions from a string-based or compiled-code-based input. If you pass in a string to eval(), then the function parses it, compiles it to bytecode, and evaluates it as a Python expression. But if you call eval() with a compiled code object, then the function performs just the evaluation step, which is quite convenient if you call eval() several times with the same input.\n",
    "\n",
    "When you call eval() with a string as an argument, the function returns the value that results from evaluating the input string. By default, eval() has access to global names like x in the above example.\n",
    "\n",
    "To evaluate a string-based expression, Python’s eval() runs the following steps:\n",
    "\n",
    "* Parse expression\n",
    "* Compile it to bytecode\n",
    "* Evaluate it as a Python expression\n",
    "* Return the result of the evaluation"
   ]
  },
  {
   "cell_type": "code",
   "execution_count": 80,
   "id": "997510cc",
   "metadata": {},
   "outputs": [
    {
     "data": {
      "text/plain": [
       "16"
      ]
     },
     "execution_count": 80,
     "metadata": {},
     "output_type": "execute_result"
    }
   ],
   "source": [
    "eval(\"4**2\")"
   ]
  },
  {
   "cell_type": "code",
   "execution_count": 81,
   "id": "45570a16",
   "metadata": {},
   "outputs": [
    {
     "data": {
      "text/plain": [
       "56"
      ]
     },
     "execution_count": 81,
     "metadata": {},
     "output_type": "execute_result"
    }
   ],
   "source": [
    "eval(\"sum([8, 16, 32])\")"
   ]
  },
  {
   "cell_type": "markdown",
   "id": "fe490d65",
   "metadata": {},
   "source": [
    "### Valid Palindrome"
   ]
  },
  {
   "cell_type": "code",
   "execution_count": 85,
   "id": "4c5b6266",
   "metadata": {},
   "outputs": [],
   "source": [
    "# Given a non-empty string s, you may delete at most one character. Judge whether you can make it a palindrome.\n",
    "# The string will only contain lowercase characters a-z.\n",
    "\n",
    "s = 'radkar'"
   ]
  },
  {
   "cell_type": "code",
   "execution_count": 86,
   "id": "c7927d27",
   "metadata": {},
   "outputs": [],
   "source": [
    "def solution(s):\n",
    "    \n",
    "    # check palindrome by removing one character\n",
    "    for i in range(len(s)):\n",
    "        t = s[:i] + s[i+1:]\n",
    "        if t == t[::-1]:\n",
    "            return True\n",
    "    \n",
    "    # check if string itself is palindrome\n",
    "    return s == s[::-1]"
   ]
  },
  {
   "cell_type": "code",
   "execution_count": 87,
   "id": "a1a734c6",
   "metadata": {},
   "outputs": [
    {
     "name": "stdout",
     "output_type": "stream",
     "text": [
      "True\n"
     ]
    }
   ],
   "source": [
    "print(solution(s))"
   ]
  },
  {
   "cell_type": "markdown",
   "id": "1755604f",
   "metadata": {},
   "source": [
    "### First Unique Character"
   ]
  },
  {
   "cell_type": "code",
   "execution_count": null,
   "id": "90a9d75c",
   "metadata": {},
   "outputs": [],
   "source": [
    "# Given a string, find the first non-repeating character in it and return its index. \n",
    "# If it doesn't exist, return -1. # Note: all the input strings are already lowercase."
   ]
  },
  {
   "cell_type": "code",
   "execution_count": 97,
   "id": "48808a65",
   "metadata": {},
   "outputs": [],
   "source": [
    "# use dictionary\n",
    "def solution(s):\n",
    "    frequency = {}\n",
    "    \n",
    "    # build char occurence dictionary\n",
    "    for i in s:\n",
    "        if i not in frequency:\n",
    "            frequency[i] = 1\n",
    "        else:\n",
    "            frequency[i] += 1\n",
    "    \n",
    "    # loop to find index\n",
    "    for i in range(len(s)):\n",
    "        if frequency[s[i]] == 1:\n",
    "            return i\n",
    "        \n",
    "    return -1"
   ]
  },
  {
   "cell_type": "code",
   "execution_count": 92,
   "id": "984cc61d",
   "metadata": {},
   "outputs": [],
   "source": [
    "# use collections.Counter()\n",
    "import collections\n",
    "\n",
    "def solution(s):\n",
    "    # build hash map: character and how often it appears\n",
    "    count = collections.Counter(s)  # give back a dictionary with words occurence count\n",
    "                                      # Counter({'l': 1, 'e': 3, 't': 1, 'c': 1, 'o': 1, 'd': 1})\n",
    "    # find the index\n",
    "    for idx, ch in enumerate(s):\n",
    "        if count[ch] == 1:\n",
    "            return idx\n",
    "    \n",
    "    return -1"
   ]
  },
  {
   "cell_type": "code",
   "execution_count": 98,
   "id": "2d4b4aac",
   "metadata": {},
   "outputs": [
    {
     "name": "stdout",
     "output_type": "stream",
     "text": [
      "1\n",
      "2\n",
      "1\n"
     ]
    }
   ],
   "source": [
    "print(solution('alphabet'))\n",
    "print(solution('barbados'))\n",
    "print(solution('crunchy'))"
   ]
  },
  {
   "cell_type": "markdown",
   "id": "7e4477cb",
   "metadata": {},
   "source": [
    "## Array"
   ]
  },
  {
   "cell_type": "markdown",
   "id": "32ae8cde",
   "metadata": {},
   "source": [
    "### Monotonic Array"
   ]
  },
  {
   "cell_type": "code",
   "execution_count": 55,
   "id": "46866e50",
   "metadata": {},
   "outputs": [],
   "source": [
    "# Given an array of integers, determine whether the array is monotonic or not.\n",
    "A = [6, 5, 4, 4] \n",
    "B = [1,1,1,3,3,4,3,2,4,2]\n",
    "C = [1,1,2,3,7]\n",
    "    "
   ]
  },
  {
   "cell_type": "code",
   "execution_count": 56,
   "id": "d713e297",
   "metadata": {},
   "outputs": [],
   "source": [
    "# solution 1: for loop check adjacent element and use all() in. one pass\n",
    "def solution(array):\n",
    "    \n",
    "    return(all(array[i] <= array[i+1] for i in range(len(array) - 1)) or   # monotonic increasing\n",
    "           all(array[i] >= array[i+1] for i in range(len(array) - 1))      # monotonic decreasing\n",
    "    )\n",
    "    "
   ]
  },
  {
   "cell_type": "code",
   "execution_count": 78,
   "id": "1fe5f24b",
   "metadata": {},
   "outputs": [],
   "source": [
    "# solution 2: sort and reverse sort array\n",
    "def solution(array):\n",
    "    \n",
    "    x = array.copy()\n",
    "    y = array.copy()\n",
    "    x.sort()\n",
    "    y.sort(reverse=True)\n",
    "    \n",
    "    if array == x or array == y:\n",
    "        return True\n",
    "    else:\n",
    "        return False"
   ]
  },
  {
   "cell_type": "code",
   "execution_count": 79,
   "id": "887b1358",
   "metadata": {},
   "outputs": [
    {
     "name": "stdout",
     "output_type": "stream",
     "text": [
      "True\n",
      "False\n",
      "True\n"
     ]
    }
   ],
   "source": [
    "print(solution(A)) \n",
    "print(solution(B)) \n",
    "print(solution(C)) "
   ]
  },
  {
   "cell_type": "markdown",
   "id": "4a7a168f",
   "metadata": {},
   "source": [
    "### Move Zeroes"
   ]
  },
  {
   "cell_type": "code",
   "execution_count": 48,
   "id": "f8574d96",
   "metadata": {},
   "outputs": [],
   "source": [
    "# Given an array nums, write a function to move all zeroes to the end of it while maintaining the relative order of \n",
    "# the non-zero elements.\n",
    "\n",
    "array1 = [0,1,0,3,12]\n",
    "array2 = [1,7,0,0,8,0,10,12,0,4]\n",
    "    "
   ]
  },
  {
   "cell_type": "code",
   "execution_count": 49,
   "id": "ee393b4f",
   "metadata": {},
   "outputs": [],
   "source": [
    "# solution 1: use list operation to remove (by element) and append zero\n",
    "def solution(array):\n",
    "    \n",
    "    for num in array:\n",
    "        if num == 0:\n",
    "            array.remove(0)\n",
    "            array.append(0)\n",
    "            \n",
    "    return array\n",
    "    "
   ]
  },
  {
   "cell_type": "code",
   "execution_count": 51,
   "id": "0cae15e0",
   "metadata": {},
   "outputs": [],
   "source": [
    "# solution 2: use list operation to pop (by index) and append zero\n",
    "def solution(array):\n",
    "    \n",
    "    for i in range(len(array)):\n",
    "        if array[i] == 0:\n",
    "            array.pop(i)\n",
    "            array.append(0)\n",
    "            \n",
    "    return array\n",
    "    "
   ]
  },
  {
   "cell_type": "code",
   "execution_count": 53,
   "id": "2cd45ebb",
   "metadata": {},
   "outputs": [],
   "source": [
    "# solution 3: use list comprehension\n",
    "def solution(array):\n",
    "    \n",
    "    return [num for num in array if num != 0] + [0 for num in array if num == 0]"
   ]
  },
  {
   "cell_type": "code",
   "execution_count": 54,
   "id": "0f659bcc",
   "metadata": {},
   "outputs": [
    {
     "name": "stdout",
     "output_type": "stream",
     "text": [
      "[1, 3, 12, 0, 0]\n",
      "[1, 7, 8, 10, 12, 4, 0, 0, 0, 0]\n"
     ]
    }
   ],
   "source": [
    "print(solution(array1))\n",
    "print(solution(array2))"
   ]
  },
  {
   "cell_type": "markdown",
   "id": "0d293c32",
   "metadata": {},
   "source": [
    "### Fill the blanks"
   ]
  },
  {
   "cell_type": "code",
   "execution_count": 59,
   "id": "85794ca7",
   "metadata": {},
   "outputs": [],
   "source": [
    "# Given an array containing None values fill in the None values with most recent \n",
    "# non None value in the array \n",
    "\n",
    "array1 = [1,None,2,3,None,None,5,None]\n",
    "array2 = [None,2,3,None,None,5,None,1]"
   ]
  },
  {
   "cell_type": "code",
   "execution_count": 62,
   "id": "89ceff47",
   "metadata": {},
   "outputs": [],
   "source": [
    "def solution(array):\n",
    "    \n",
    "    # get first non none element\n",
    "    valid = next((num for num in array if num is not None), 'all are None')\n",
    "    \n",
    "    for i in range(len(array)):\n",
    "        if array[i] is None:\n",
    "            array[i] = valid\n",
    "        else:\n",
    "            valid = array[i]\n",
    "            \n",
    "    return array\n",
    "        "
   ]
  },
  {
   "cell_type": "code",
   "execution_count": 71,
   "id": "73d789b6",
   "metadata": {},
   "outputs": [],
   "source": [
    "def solution(array):\n",
    "    valid = None            \n",
    "    res = []   \n",
    "    \n",
    "    for num in array: \n",
    "        if num is not None:    \n",
    "            res.append(num)\n",
    "            valid = num\n",
    "        else:\n",
    "            res.append(valid)\n",
    "            \n",
    "    return res"
   ]
  },
  {
   "cell_type": "code",
   "execution_count": 72,
   "id": "a363d443",
   "metadata": {},
   "outputs": [
    {
     "name": "stdout",
     "output_type": "stream",
     "text": [
      "[1, 1, 2, 3, 3, 3, 5, 5]\n",
      "[2, 2, 3, 3, 3, 5, 5, 1]\n"
     ]
    }
   ],
   "source": [
    "print(solution(array1))\n",
    "print(solution(array2))"
   ]
  },
  {
   "cell_type": "markdown",
   "id": "c3e51a4d",
   "metadata": {},
   "source": [
    "### Matched & Mismatched Words"
   ]
  },
  {
   "cell_type": "code",
   "execution_count": 99,
   "id": "21e09c38",
   "metadata": {},
   "outputs": [],
   "source": [
    "# Given two sentences, return an array that has the words that appear in one sentence and not\n",
    "# the other and an array with the words in common. \n",
    "\n",
    "sentence1 = 'We are really pleased to meet you in our city'\n",
    "sentence2 = 'The city was hit by a really heavy storm'"
   ]
  },
  {
   "cell_type": "code",
   "execution_count": 100,
   "id": "a37e3f07",
   "metadata": {},
   "outputs": [],
   "source": [
    "def solution(sentence1, sentence2):\n",
    "    \n",
    "    # use set to extract distinct words\n",
    "    set1 = set(sentence1.split())\n",
    "    set2 = set(sentence2.split())\n",
    "    \n",
    "    return list(set1^set2), list(set1&set2)  # ^ A.symmetric_difference(B), & A.intersection(B)"
   ]
  },
  {
   "cell_type": "code",
   "execution_count": 101,
   "id": "bebe41c8",
   "metadata": {},
   "outputs": [
    {
     "name": "stdout",
     "output_type": "stream",
     "text": [
      "(['you', 'was', 'pleased', 'heavy', 'our', 'in', 'hit', 'are', 'The', 'We', 'storm', 'by', 'a', 'to', 'meet'], ['really', 'city'])\n"
     ]
    }
   ],
   "source": [
    "print(solution(sentence1, sentence2))"
   ]
  },
  {
   "cell_type": "markdown",
   "id": "4cb7ac3c",
   "metadata": {},
   "source": [
    "### Prime Numbers Array"
   ]
  },
  {
   "cell_type": "code",
   "execution_count": 103,
   "id": "e31be1b7",
   "metadata": {},
   "outputs": [],
   "source": [
    "# Given k numbers which are less than n, return the set of prime number among them\n",
    "# Note: The task is to write a program to print all Prime numbers in an Interval.\n",
    "# Definition: A prime number is a natural number greater than 1 that has no positive divisors other than 1 and itself. \n",
    "\n",
    "n = 35"
   ]
  },
  {
   "cell_type": "code",
   "execution_count": 116,
   "id": "13be485a",
   "metadata": {},
   "outputs": [],
   "source": [
    "def solution(n):\n",
    "    \n",
    "    prime_nums = []\n",
    "    \n",
    "    for num in range(n):\n",
    "        \n",
    "        if num > 1:   # all prime numbers are greater than 1\n",
    "            for i in range(2, num):\n",
    "                if num % i == 0:    # if the modulus == 0, the number can be divided by a number preceding it\n",
    "                    break\n",
    "            else:                         # In Python, you can place an else statement at the end of a loop.\n",
    "                prime_nums.append(num)    # The else block only runs if a break statement was not used in the loop.\n",
    "                \n",
    "                \n",
    "    return prime_nums"
   ]
  },
  {
   "cell_type": "code",
   "execution_count": 117,
   "id": "7e262b0a",
   "metadata": {},
   "outputs": [
    {
     "name": "stdout",
     "output_type": "stream",
     "text": [
      "[2, 3, 5, 7, 11, 13, 17, 19, 23, 29, 31]\n"
     ]
    }
   ],
   "source": [
    "print(solution(n))"
   ]
  },
  {
   "cell_type": "code",
   "execution_count": null,
   "id": "86cc706f",
   "metadata": {},
   "outputs": [],
   "source": []
  },
  {
   "cell_type": "code",
   "execution_count": null,
   "id": "02f55163",
   "metadata": {},
   "outputs": [],
   "source": []
  },
  {
   "cell_type": "code",
   "execution_count": null,
   "id": "a5bf5f20",
   "metadata": {},
   "outputs": [],
   "source": []
  },
  {
   "cell_type": "code",
   "execution_count": null,
   "id": "fbc50310",
   "metadata": {},
   "outputs": [],
   "source": []
  },
  {
   "cell_type": "code",
   "execution_count": null,
   "id": "163672cc",
   "metadata": {},
   "outputs": [],
   "source": []
  },
  {
   "cell_type": "code",
   "execution_count": null,
   "id": "84108534",
   "metadata": {},
   "outputs": [],
   "source": []
  },
  {
   "cell_type": "code",
   "execution_count": null,
   "id": "46360f5e",
   "metadata": {},
   "outputs": [],
   "source": []
  },
  {
   "cell_type": "code",
   "execution_count": null,
   "id": "727e8d4a",
   "metadata": {},
   "outputs": [],
   "source": []
  },
  {
   "cell_type": "code",
   "execution_count": null,
   "id": "c42b1c08",
   "metadata": {},
   "outputs": [],
   "source": []
  },
  {
   "cell_type": "code",
   "execution_count": null,
   "id": "45dd1e5f",
   "metadata": {},
   "outputs": [],
   "source": []
  },
  {
   "cell_type": "code",
   "execution_count": null,
   "id": "df14a7cb",
   "metadata": {},
   "outputs": [],
   "source": []
  }
 ],
 "metadata": {
  "kernelspec": {
   "display_name": "Python 3 (ipykernel)",
   "language": "python",
   "name": "python3"
  },
  "language_info": {
   "codemirror_mode": {
    "name": "ipython",
    "version": 3
   },
   "file_extension": ".py",
   "mimetype": "text/x-python",
   "name": "python",
   "nbconvert_exporter": "python",
   "pygments_lexer": "ipython3",
   "version": "3.9.7"
  },
  "toc": {
   "base_numbering": 1,
   "nav_menu": {},
   "number_sections": true,
   "sideBar": true,
   "skip_h1_title": false,
   "title_cell": "Table of Contents",
   "title_sidebar": "Contents",
   "toc_cell": false,
   "toc_position": {},
   "toc_section_display": true,
   "toc_window_display": false
  }
 },
 "nbformat": 4,
 "nbformat_minor": 5
}
